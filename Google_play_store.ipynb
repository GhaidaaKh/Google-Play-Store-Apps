{
 "cells": [
  {
   "cell_type": "code",
   "execution_count": 49,
   "id": "928365df",
   "metadata": {},
   "outputs": [
    {
     "data": {
      "text/html": [
       "        <script type=\"text/javascript\">\n",
       "        window.PlotlyConfig = {MathJaxConfig: 'local'};\n",
       "        if (window.MathJax) {MathJax.Hub.Config({SVG: {font: \"STIX-Web\"}});}\n",
       "        if (typeof require !== 'undefined') {\n",
       "        require.undef(\"plotly\");\n",
       "        requirejs.config({\n",
       "            paths: {\n",
       "                'plotly': ['https://cdn.plot.ly/plotly-2.4.2.min']\n",
       "            }\n",
       "        });\n",
       "        require(['plotly'], function(Plotly) {\n",
       "            window._Plotly = Plotly;\n",
       "        });\n",
       "        }\n",
       "        </script>\n",
       "        "
      ]
     },
     "metadata": {},
     "output_type": "display_data"
    }
   ],
   "source": [
    "import pandas as pd \n",
    "import seaborn as sns\n",
    "import numpy as np\n",
    "import matplotlib.pyplot as plt\n",
    "%config InlineBackend.figure_format = \"png\"\n",
    "import plotly.express as px\n",
    "import plotly\n",
    "# connected=True means it will download the latest version of plotly javascript library.\n",
    "plotly.offline.init_notebook_mode(connected=True)\n",
    "import plotly.graph_objs as go\n",
    "\n",
    "import plotly.figure_factory as ff\n",
    "#import cufflinks as cf"
   ]
  },
  {
   "cell_type": "code",
   "execution_count": 50,
   "id": "b696538d",
   "metadata": {},
   "outputs": [],
   "source": [
    "# import data \n",
    "data= pd.read_csv(\"/Users/ghaidaa/Desktop/Google-Play-Store-Apps/googleplaystore.csv\")"
   ]
  },
  {
   "cell_type": "code",
   "execution_count": 51,
   "id": "e6ae8b56",
   "metadata": {},
   "outputs": [
    {
     "name": "stdout",
     "output_type": "stream",
     "text": [
      "<class 'pandas.core.frame.DataFrame'>\n",
      "RangeIndex: 10841 entries, 0 to 10840\n",
      "Data columns (total 13 columns):\n",
      " #   Column          Non-Null Count  Dtype  \n",
      "---  ------          --------------  -----  \n",
      " 0   App             10841 non-null  object \n",
      " 1   Category        10841 non-null  object \n",
      " 2   Rating          9367 non-null   float64\n",
      " 3   Reviews         10841 non-null  object \n",
      " 4   Size            10841 non-null  object \n",
      " 5   Installs        10841 non-null  object \n",
      " 6   Type            10840 non-null  object \n",
      " 7   Price           10841 non-null  object \n",
      " 8   Content Rating  10840 non-null  object \n",
      " 9   Genres          10841 non-null  object \n",
      " 10  Last Updated    10841 non-null  object \n",
      " 11  Current Ver     10833 non-null  object \n",
      " 12  Android Ver     10838 non-null  object \n",
      "dtypes: float64(1), object(12)\n",
      "memory usage: 1.1+ MB\n"
     ]
    }
   ],
   "source": [
    "#1 basic visualize data \n",
    "data.info()\n",
    "\n"
   ]
  },
  {
   "cell_type": "code",
   "execution_count": 52,
   "id": "f3b084dd",
   "metadata": {},
   "outputs": [
    {
     "data": {
      "text/html": [
       "<div>\n",
       "<style scoped>\n",
       "    .dataframe tbody tr th:only-of-type {\n",
       "        vertical-align: middle;\n",
       "    }\n",
       "\n",
       "    .dataframe tbody tr th {\n",
       "        vertical-align: top;\n",
       "    }\n",
       "\n",
       "    .dataframe thead th {\n",
       "        text-align: right;\n",
       "    }\n",
       "</style>\n",
       "<table border=\"1\" class=\"dataframe\">\n",
       "  <thead>\n",
       "    <tr style=\"text-align: right;\">\n",
       "      <th></th>\n",
       "      <th>App</th>\n",
       "      <th>Category</th>\n",
       "      <th>Rating</th>\n",
       "      <th>Reviews</th>\n",
       "      <th>Size</th>\n",
       "      <th>Installs</th>\n",
       "      <th>Type</th>\n",
       "      <th>Price</th>\n",
       "      <th>Content Rating</th>\n",
       "      <th>Genres</th>\n",
       "      <th>Last Updated</th>\n",
       "      <th>Current Ver</th>\n",
       "      <th>Android Ver</th>\n",
       "    </tr>\n",
       "  </thead>\n",
       "  <tbody>\n",
       "    <tr>\n",
       "      <th>0</th>\n",
       "      <td>Photo Editor &amp; Candy Camera &amp; Grid &amp; ScrapBook</td>\n",
       "      <td>ART_AND_DESIGN</td>\n",
       "      <td>4.1</td>\n",
       "      <td>159</td>\n",
       "      <td>19M</td>\n",
       "      <td>10,000+</td>\n",
       "      <td>Free</td>\n",
       "      <td>0</td>\n",
       "      <td>Everyone</td>\n",
       "      <td>Art &amp; Design</td>\n",
       "      <td>January 7, 2018</td>\n",
       "      <td>1.0.0</td>\n",
       "      <td>4.0.3 and up</td>\n",
       "    </tr>\n",
       "    <tr>\n",
       "      <th>1</th>\n",
       "      <td>Coloring book moana</td>\n",
       "      <td>ART_AND_DESIGN</td>\n",
       "      <td>3.9</td>\n",
       "      <td>967</td>\n",
       "      <td>14M</td>\n",
       "      <td>500,000+</td>\n",
       "      <td>Free</td>\n",
       "      <td>0</td>\n",
       "      <td>Everyone</td>\n",
       "      <td>Art &amp; Design;Pretend Play</td>\n",
       "      <td>January 15, 2018</td>\n",
       "      <td>2.0.0</td>\n",
       "      <td>4.0.3 and up</td>\n",
       "    </tr>\n",
       "    <tr>\n",
       "      <th>2</th>\n",
       "      <td>U Launcher Lite – FREE Live Cool Themes, Hide ...</td>\n",
       "      <td>ART_AND_DESIGN</td>\n",
       "      <td>4.7</td>\n",
       "      <td>87510</td>\n",
       "      <td>8.7M</td>\n",
       "      <td>5,000,000+</td>\n",
       "      <td>Free</td>\n",
       "      <td>0</td>\n",
       "      <td>Everyone</td>\n",
       "      <td>Art &amp; Design</td>\n",
       "      <td>August 1, 2018</td>\n",
       "      <td>1.2.4</td>\n",
       "      <td>4.0.3 and up</td>\n",
       "    </tr>\n",
       "    <tr>\n",
       "      <th>3</th>\n",
       "      <td>Sketch - Draw &amp; Paint</td>\n",
       "      <td>ART_AND_DESIGN</td>\n",
       "      <td>4.5</td>\n",
       "      <td>215644</td>\n",
       "      <td>25M</td>\n",
       "      <td>50,000,000+</td>\n",
       "      <td>Free</td>\n",
       "      <td>0</td>\n",
       "      <td>Teen</td>\n",
       "      <td>Art &amp; Design</td>\n",
       "      <td>June 8, 2018</td>\n",
       "      <td>Varies with device</td>\n",
       "      <td>4.2 and up</td>\n",
       "    </tr>\n",
       "    <tr>\n",
       "      <th>4</th>\n",
       "      <td>Pixel Draw - Number Art Coloring Book</td>\n",
       "      <td>ART_AND_DESIGN</td>\n",
       "      <td>4.3</td>\n",
       "      <td>967</td>\n",
       "      <td>2.8M</td>\n",
       "      <td>100,000+</td>\n",
       "      <td>Free</td>\n",
       "      <td>0</td>\n",
       "      <td>Everyone</td>\n",
       "      <td>Art &amp; Design;Creativity</td>\n",
       "      <td>June 20, 2018</td>\n",
       "      <td>1.1</td>\n",
       "      <td>4.4 and up</td>\n",
       "    </tr>\n",
       "  </tbody>\n",
       "</table>\n",
       "</div>"
      ],
      "text/plain": [
       "                                                 App        Category  Rating  \\\n",
       "0     Photo Editor & Candy Camera & Grid & ScrapBook  ART_AND_DESIGN     4.1   \n",
       "1                                Coloring book moana  ART_AND_DESIGN     3.9   \n",
       "2  U Launcher Lite – FREE Live Cool Themes, Hide ...  ART_AND_DESIGN     4.7   \n",
       "3                              Sketch - Draw & Paint  ART_AND_DESIGN     4.5   \n",
       "4              Pixel Draw - Number Art Coloring Book  ART_AND_DESIGN     4.3   \n",
       "\n",
       "  Reviews  Size     Installs  Type Price Content Rating  \\\n",
       "0     159   19M      10,000+  Free     0       Everyone   \n",
       "1     967   14M     500,000+  Free     0       Everyone   \n",
       "2   87510  8.7M   5,000,000+  Free     0       Everyone   \n",
       "3  215644   25M  50,000,000+  Free     0           Teen   \n",
       "4     967  2.8M     100,000+  Free     0       Everyone   \n",
       "\n",
       "                      Genres      Last Updated         Current Ver  \\\n",
       "0               Art & Design   January 7, 2018               1.0.0   \n",
       "1  Art & Design;Pretend Play  January 15, 2018               2.0.0   \n",
       "2               Art & Design    August 1, 2018               1.2.4   \n",
       "3               Art & Design      June 8, 2018  Varies with device   \n",
       "4    Art & Design;Creativity     June 20, 2018                 1.1   \n",
       "\n",
       "    Android Ver  \n",
       "0  4.0.3 and up  \n",
       "1  4.0.3 and up  \n",
       "2  4.0.3 and up  \n",
       "3    4.2 and up  \n",
       "4    4.4 and up  "
      ]
     },
     "execution_count": 52,
     "metadata": {},
     "output_type": "execute_result"
    }
   ],
   "source": [
    "data.head(5)"
   ]
  },
  {
   "cell_type": "code",
   "execution_count": 53,
   "id": "393f6a49",
   "metadata": {},
   "outputs": [],
   "source": [
    "\n",
    "\n",
    "data.columns = data.columns.str.replace(' ', '')"
   ]
  },
  {
   "cell_type": "code",
   "execution_count": 54,
   "id": "8d323226",
   "metadata": {
    "scrolled": true
   },
   "outputs": [
    {
     "data": {
      "text/plain": [
       "App                 0\n",
       "Category            0\n",
       "Rating           1474\n",
       "Reviews             0\n",
       "Size                0\n",
       "Installs            0\n",
       "Type                1\n",
       "Price               0\n",
       "ContentRating       1\n",
       "Genres              0\n",
       "LastUpdated         0\n",
       "CurrentVer          8\n",
       "AndroidVer          3\n",
       "dtype: int64"
      ]
     },
     "execution_count": 54,
     "metadata": {},
     "output_type": "execute_result"
    }
   ],
   "source": [
    "\n",
    "data.isna().sum()"
   ]
  },
  {
   "cell_type": "code",
   "execution_count": 55,
   "id": "83d702f6",
   "metadata": {},
   "outputs": [],
   "source": [
    "data['CurrentVer']=data.CurrentVer.fillna(\"Unknown\")\n",
    "data['AndroidVer']=data.AndroidVer.fillna(\"Unknown\")\n",
    "data['ContentRating']=data.ContentRating.fillna(\"Unknown\")\n",
    "data['Type']=data.Type.dropna()\n",
    "#fill nan mean Rating  \n",
    "data['Rating'].fillna((data['Rating'].mean()), inplace=True)\n"
   ]
  },
  {
   "cell_type": "code",
   "execution_count": 56,
   "id": "28a133a5",
   "metadata": {},
   "outputs": [
    {
     "data": {
      "text/plain": [
       "App              0\n",
       "Category         0\n",
       "Rating           0\n",
       "Reviews          0\n",
       "Size             0\n",
       "Installs         0\n",
       "Type             1\n",
       "Price            0\n",
       "ContentRating    0\n",
       "Genres           0\n",
       "LastUpdated      0\n",
       "CurrentVer       0\n",
       "AndroidVer       0\n",
       "dtype: int64"
      ]
     },
     "execution_count": 56,
     "metadata": {},
     "output_type": "execute_result"
    }
   ],
   "source": [
    "data.isna().sum()\n",
    "#drop = data.Type.isna()==True\n",
    "#drop.dropna()"
   ]
  },
  {
   "cell_type": "code",
   "execution_count": 57,
   "id": "fe81f747",
   "metadata": {},
   "outputs": [
    {
     "data": {
      "text/html": [
       "<div>\n",
       "<style scoped>\n",
       "    .dataframe tbody tr th:only-of-type {\n",
       "        vertical-align: middle;\n",
       "    }\n",
       "\n",
       "    .dataframe tbody tr th {\n",
       "        vertical-align: top;\n",
       "    }\n",
       "\n",
       "    .dataframe thead th {\n",
       "        text-align: right;\n",
       "    }\n",
       "</style>\n",
       "<table border=\"1\" class=\"dataframe\">\n",
       "  <thead>\n",
       "    <tr style=\"text-align: right;\">\n",
       "      <th></th>\n",
       "      <th>App</th>\n",
       "      <th>Category</th>\n",
       "      <th>Rating</th>\n",
       "      <th>Reviews</th>\n",
       "      <th>Size</th>\n",
       "      <th>Installs</th>\n",
       "      <th>Type</th>\n",
       "      <th>Price</th>\n",
       "      <th>ContentRating</th>\n",
       "      <th>Genres</th>\n",
       "      <th>LastUpdated</th>\n",
       "      <th>CurrentVer</th>\n",
       "      <th>AndroidVer</th>\n",
       "    </tr>\n",
       "  </thead>\n",
       "  <tbody>\n",
       "    <tr>\n",
       "      <th>10472</th>\n",
       "      <td>Life Made WI-Fi Touchscreen Photo Frame</td>\n",
       "      <td>1.9</td>\n",
       "      <td>19.0</td>\n",
       "      <td>3.0M</td>\n",
       "      <td>1,000+</td>\n",
       "      <td>Free</td>\n",
       "      <td>0</td>\n",
       "      <td>Everyone</td>\n",
       "      <td>Unknown</td>\n",
       "      <td>February 11, 2018</td>\n",
       "      <td>1.0.19</td>\n",
       "      <td>4.0 and up</td>\n",
       "      <td>Unknown</td>\n",
       "    </tr>\n",
       "  </tbody>\n",
       "</table>\n",
       "</div>"
      ],
      "text/plain": [
       "                                           App Category  Rating Reviews  \\\n",
       "10472  Life Made WI-Fi Touchscreen Photo Frame      1.9    19.0    3.0M   \n",
       "\n",
       "         Size Installs Type     Price ContentRating             Genres  \\\n",
       "10472  1,000+     Free    0  Everyone       Unknown  February 11, 2018   \n",
       "\n",
       "      LastUpdated  CurrentVer AndroidVer  \n",
       "10472      1.0.19  4.0 and up    Unknown  "
      ]
     },
     "execution_count": 57,
     "metadata": {},
     "output_type": "execute_result"
    }
   ],
   "source": [
    "\n",
    "data.Reviews.str.isnumeric().sum() # all is numeric except one row \n",
    "data[~data.Reviews.str.isnumeric()]##check if all values reverse non-numeric"
   ]
  },
  {
   "cell_type": "code",
   "execution_count": 58,
   "id": "9a97a8c3",
   "metadata": {},
   "outputs": [],
   "source": [
    "data=data.drop(data.index[10472])\n",
    "data[\"Reviews\"] = data[\"Reviews\"].astype(int)\n",
    "\n"
   ]
  },
  {
   "cell_type": "code",
   "execution_count": 59,
   "id": "b4da7c89",
   "metadata": {},
   "outputs": [
    {
     "data": {
      "text/plain": [
       "Index(['App', 'Category', 'Rating', 'Reviews', 'Size', 'Installs', 'Type',\n",
       "       'Price', 'ContentRating', 'Genres', 'LastUpdated', 'CurrentVer',\n",
       "       'AndroidVer'],\n",
       "      dtype='object')"
      ]
     },
     "execution_count": 59,
     "metadata": {},
     "output_type": "execute_result"
    }
   ],
   "source": [
    "data.columns\n"
   ]
  },
  {
   "cell_type": "code",
   "execution_count": 60,
   "id": "9695dcd6",
   "metadata": {},
   "outputs": [
    {
     "data": {
      "text/html": [
       "<div>\n",
       "<style scoped>\n",
       "    .dataframe tbody tr th:only-of-type {\n",
       "        vertical-align: middle;\n",
       "    }\n",
       "\n",
       "    .dataframe tbody tr th {\n",
       "        vertical-align: top;\n",
       "    }\n",
       "\n",
       "    .dataframe thead th {\n",
       "        text-align: right;\n",
       "    }\n",
       "</style>\n",
       "<table border=\"1\" class=\"dataframe\">\n",
       "  <thead>\n",
       "    <tr style=\"text-align: right;\">\n",
       "      <th></th>\n",
       "      <th>App</th>\n",
       "      <th>Category</th>\n",
       "      <th>Rating</th>\n",
       "      <th>Reviews</th>\n",
       "      <th>Size</th>\n",
       "      <th>Installs</th>\n",
       "      <th>Type</th>\n",
       "      <th>Price</th>\n",
       "      <th>ContentRating</th>\n",
       "      <th>Genres</th>\n",
       "      <th>LastUpdated</th>\n",
       "      <th>CurrentVer</th>\n",
       "      <th>AndroidVer</th>\n",
       "    </tr>\n",
       "  </thead>\n",
       "  <tbody>\n",
       "    <tr>\n",
       "      <th>2060</th>\n",
       "      <td>Rhythm Patrol</td>\n",
       "      <td>FAMILY</td>\n",
       "      <td>4.300000</td>\n",
       "      <td>4207</td>\n",
       "      <td>26M</td>\n",
       "      <td>100,000+</td>\n",
       "      <td>Free</td>\n",
       "      <td>0</td>\n",
       "      <td>Everyone</td>\n",
       "      <td>Music;Music &amp; Video</td>\n",
       "      <td>July 23, 2018</td>\n",
       "      <td>2.180723</td>\n",
       "      <td>4.1 and up</td>\n",
       "    </tr>\n",
       "    <tr>\n",
       "      <th>5571</th>\n",
       "      <td>Summer Camp Island AR</td>\n",
       "      <td>FAMILY</td>\n",
       "      <td>3.600000</td>\n",
       "      <td>740</td>\n",
       "      <td>71M</td>\n",
       "      <td>50,000+</td>\n",
       "      <td>Free</td>\n",
       "      <td>0</td>\n",
       "      <td>Everyone</td>\n",
       "      <td>Simulation</td>\n",
       "      <td>July 5, 2018</td>\n",
       "      <td>1.0.2</td>\n",
       "      <td>4.4 and up</td>\n",
       "    </tr>\n",
       "    <tr>\n",
       "      <th>8148</th>\n",
       "      <td>signály.cz</td>\n",
       "      <td>SOCIAL</td>\n",
       "      <td>4.193338</td>\n",
       "      <td>38</td>\n",
       "      <td>881k</td>\n",
       "      <td>1,000+</td>\n",
       "      <td>Free</td>\n",
       "      <td>0</td>\n",
       "      <td>Everyone</td>\n",
       "      <td>Social</td>\n",
       "      <td>May 9, 2013</td>\n",
       "      <td>1.1</td>\n",
       "      <td>2.2 and up</td>\n",
       "    </tr>\n",
       "    <tr>\n",
       "      <th>8251</th>\n",
       "      <td>LEGO Batman: DC Super Heroes</td>\n",
       "      <td>FAMILY</td>\n",
       "      <td>4.200000</td>\n",
       "      <td>2557</td>\n",
       "      <td>5.8M</td>\n",
       "      <td>50,000+</td>\n",
       "      <td>Paid</td>\n",
       "      <td>$4.99</td>\n",
       "      <td>Everyone 10+</td>\n",
       "      <td>Adventure;Action &amp; Adventure</td>\n",
       "      <td>May 9, 2016</td>\n",
       "      <td>Varies with device</td>\n",
       "      <td>4.0.3 and up</td>\n",
       "    </tr>\n",
       "    <tr>\n",
       "      <th>4659</th>\n",
       "      <td>U of I Community Credit Union</td>\n",
       "      <td>FINANCE</td>\n",
       "      <td>3.700000</td>\n",
       "      <td>52</td>\n",
       "      <td>13M</td>\n",
       "      <td>5,000+</td>\n",
       "      <td>Free</td>\n",
       "      <td>0</td>\n",
       "      <td>Everyone</td>\n",
       "      <td>Finance</td>\n",
       "      <td>May 4, 2018</td>\n",
       "      <td>4.16.10</td>\n",
       "      <td>4.4 and up</td>\n",
       "    </tr>\n",
       "  </tbody>\n",
       "</table>\n",
       "</div>"
      ],
      "text/plain": [
       "                                App Category    Rating  Reviews  Size  \\\n",
       "2060                  Rhythm Patrol   FAMILY  4.300000     4207   26M   \n",
       "5571          Summer Camp Island AR   FAMILY  3.600000      740   71M   \n",
       "8148                     signály.cz   SOCIAL  4.193338       38  881k   \n",
       "8251   LEGO Batman: DC Super Heroes   FAMILY  4.200000     2557  5.8M   \n",
       "4659  U of I Community Credit Union  FINANCE  3.700000       52   13M   \n",
       "\n",
       "      Installs  Type  Price ContentRating                        Genres  \\\n",
       "2060  100,000+  Free      0      Everyone           Music;Music & Video   \n",
       "5571   50,000+  Free      0      Everyone                    Simulation   \n",
       "8148    1,000+  Free      0      Everyone                        Social   \n",
       "8251   50,000+  Paid  $4.99  Everyone 10+  Adventure;Action & Adventure   \n",
       "4659    5,000+  Free      0      Everyone                       Finance   \n",
       "\n",
       "        LastUpdated          CurrentVer    AndroidVer  \n",
       "2060  July 23, 2018            2.180723    4.1 and up  \n",
       "5571   July 5, 2018               1.0.2    4.4 and up  \n",
       "8148    May 9, 2013                 1.1    2.2 and up  \n",
       "8251    May 9, 2016  Varies with device  4.0.3 and up  \n",
       "4659    May 4, 2018             4.16.10    4.4 and up  "
      ]
     },
     "execution_count": 60,
     "metadata": {},
     "output_type": "execute_result"
    }
   ],
   "source": [
    "data.sample(5)"
   ]
  },
  {
   "cell_type": "code",
   "execution_count": 61,
   "id": "d5b110c5",
   "metadata": {},
   "outputs": [
    {
     "data": {
      "text/html": [
       "<div>\n",
       "<style scoped>\n",
       "    .dataframe tbody tr th:only-of-type {\n",
       "        vertical-align: middle;\n",
       "    }\n",
       "\n",
       "    .dataframe tbody tr th {\n",
       "        vertical-align: top;\n",
       "    }\n",
       "\n",
       "    .dataframe thead th {\n",
       "        text-align: right;\n",
       "    }\n",
       "</style>\n",
       "<table border=\"1\" class=\"dataframe\">\n",
       "  <thead>\n",
       "    <tr style=\"text-align: right;\">\n",
       "      <th></th>\n",
       "      <th>count</th>\n",
       "      <th>unique</th>\n",
       "      <th>top</th>\n",
       "      <th>freq</th>\n",
       "      <th>mean</th>\n",
       "      <th>std</th>\n",
       "      <th>min</th>\n",
       "      <th>25%</th>\n",
       "      <th>50%</th>\n",
       "      <th>75%</th>\n",
       "      <th>max</th>\n",
       "    </tr>\n",
       "  </thead>\n",
       "  <tbody>\n",
       "    <tr>\n",
       "      <th>App</th>\n",
       "      <td>10840</td>\n",
       "      <td>9659</td>\n",
       "      <td>ROBLOX</td>\n",
       "      <td>9</td>\n",
       "      <td>NaN</td>\n",
       "      <td>NaN</td>\n",
       "      <td>NaN</td>\n",
       "      <td>NaN</td>\n",
       "      <td>NaN</td>\n",
       "      <td>NaN</td>\n",
       "      <td>NaN</td>\n",
       "    </tr>\n",
       "    <tr>\n",
       "      <th>Category</th>\n",
       "      <td>10840</td>\n",
       "      <td>33</td>\n",
       "      <td>FAMILY</td>\n",
       "      <td>1972</td>\n",
       "      <td>NaN</td>\n",
       "      <td>NaN</td>\n",
       "      <td>NaN</td>\n",
       "      <td>NaN</td>\n",
       "      <td>NaN</td>\n",
       "      <td>NaN</td>\n",
       "      <td>NaN</td>\n",
       "    </tr>\n",
       "    <tr>\n",
       "      <th>Rating</th>\n",
       "      <td>10840.0</td>\n",
       "      <td>NaN</td>\n",
       "      <td>NaN</td>\n",
       "      <td>NaN</td>\n",
       "      <td>4.191972</td>\n",
       "      <td>0.478907</td>\n",
       "      <td>1.0</td>\n",
       "      <td>4.1</td>\n",
       "      <td>4.2</td>\n",
       "      <td>4.5</td>\n",
       "      <td>5.0</td>\n",
       "    </tr>\n",
       "    <tr>\n",
       "      <th>Reviews</th>\n",
       "      <td>10840.0</td>\n",
       "      <td>NaN</td>\n",
       "      <td>NaN</td>\n",
       "      <td>NaN</td>\n",
       "      <td>444152.896033</td>\n",
       "      <td>2927760.603886</td>\n",
       "      <td>0.0</td>\n",
       "      <td>38.0</td>\n",
       "      <td>2094.0</td>\n",
       "      <td>54775.5</td>\n",
       "      <td>78158306.0</td>\n",
       "    </tr>\n",
       "    <tr>\n",
       "      <th>Size</th>\n",
       "      <td>10840</td>\n",
       "      <td>461</td>\n",
       "      <td>Varies with device</td>\n",
       "      <td>1695</td>\n",
       "      <td>NaN</td>\n",
       "      <td>NaN</td>\n",
       "      <td>NaN</td>\n",
       "      <td>NaN</td>\n",
       "      <td>NaN</td>\n",
       "      <td>NaN</td>\n",
       "      <td>NaN</td>\n",
       "    </tr>\n",
       "    <tr>\n",
       "      <th>Installs</th>\n",
       "      <td>10840</td>\n",
       "      <td>21</td>\n",
       "      <td>1,000,000+</td>\n",
       "      <td>1579</td>\n",
       "      <td>NaN</td>\n",
       "      <td>NaN</td>\n",
       "      <td>NaN</td>\n",
       "      <td>NaN</td>\n",
       "      <td>NaN</td>\n",
       "      <td>NaN</td>\n",
       "      <td>NaN</td>\n",
       "    </tr>\n",
       "    <tr>\n",
       "      <th>Type</th>\n",
       "      <td>10839</td>\n",
       "      <td>2</td>\n",
       "      <td>Free</td>\n",
       "      <td>10039</td>\n",
       "      <td>NaN</td>\n",
       "      <td>NaN</td>\n",
       "      <td>NaN</td>\n",
       "      <td>NaN</td>\n",
       "      <td>NaN</td>\n",
       "      <td>NaN</td>\n",
       "      <td>NaN</td>\n",
       "    </tr>\n",
       "    <tr>\n",
       "      <th>Price</th>\n",
       "      <td>10840</td>\n",
       "      <td>92</td>\n",
       "      <td>0</td>\n",
       "      <td>10040</td>\n",
       "      <td>NaN</td>\n",
       "      <td>NaN</td>\n",
       "      <td>NaN</td>\n",
       "      <td>NaN</td>\n",
       "      <td>NaN</td>\n",
       "      <td>NaN</td>\n",
       "      <td>NaN</td>\n",
       "    </tr>\n",
       "    <tr>\n",
       "      <th>ContentRating</th>\n",
       "      <td>10840</td>\n",
       "      <td>6</td>\n",
       "      <td>Everyone</td>\n",
       "      <td>8714</td>\n",
       "      <td>NaN</td>\n",
       "      <td>NaN</td>\n",
       "      <td>NaN</td>\n",
       "      <td>NaN</td>\n",
       "      <td>NaN</td>\n",
       "      <td>NaN</td>\n",
       "      <td>NaN</td>\n",
       "    </tr>\n",
       "    <tr>\n",
       "      <th>Genres</th>\n",
       "      <td>10840</td>\n",
       "      <td>119</td>\n",
       "      <td>Tools</td>\n",
       "      <td>842</td>\n",
       "      <td>NaN</td>\n",
       "      <td>NaN</td>\n",
       "      <td>NaN</td>\n",
       "      <td>NaN</td>\n",
       "      <td>NaN</td>\n",
       "      <td>NaN</td>\n",
       "      <td>NaN</td>\n",
       "    </tr>\n",
       "    <tr>\n",
       "      <th>LastUpdated</th>\n",
       "      <td>10840</td>\n",
       "      <td>1377</td>\n",
       "      <td>August 3, 2018</td>\n",
       "      <td>326</td>\n",
       "      <td>NaN</td>\n",
       "      <td>NaN</td>\n",
       "      <td>NaN</td>\n",
       "      <td>NaN</td>\n",
       "      <td>NaN</td>\n",
       "      <td>NaN</td>\n",
       "      <td>NaN</td>\n",
       "    </tr>\n",
       "    <tr>\n",
       "      <th>CurrentVer</th>\n",
       "      <td>10840</td>\n",
       "      <td>2832</td>\n",
       "      <td>Varies with device</td>\n",
       "      <td>1459</td>\n",
       "      <td>NaN</td>\n",
       "      <td>NaN</td>\n",
       "      <td>NaN</td>\n",
       "      <td>NaN</td>\n",
       "      <td>NaN</td>\n",
       "      <td>NaN</td>\n",
       "      <td>NaN</td>\n",
       "    </tr>\n",
       "    <tr>\n",
       "      <th>AndroidVer</th>\n",
       "      <td>10840</td>\n",
       "      <td>34</td>\n",
       "      <td>4.1 and up</td>\n",
       "      <td>2451</td>\n",
       "      <td>NaN</td>\n",
       "      <td>NaN</td>\n",
       "      <td>NaN</td>\n",
       "      <td>NaN</td>\n",
       "      <td>NaN</td>\n",
       "      <td>NaN</td>\n",
       "      <td>NaN</td>\n",
       "    </tr>\n",
       "  </tbody>\n",
       "</table>\n",
       "</div>"
      ],
      "text/plain": [
       "                 count unique                 top   freq           mean  \\\n",
       "App              10840   9659              ROBLOX      9            NaN   \n",
       "Category         10840     33              FAMILY   1972            NaN   \n",
       "Rating         10840.0    NaN                 NaN    NaN       4.191972   \n",
       "Reviews        10840.0    NaN                 NaN    NaN  444152.896033   \n",
       "Size             10840    461  Varies with device   1695            NaN   \n",
       "Installs         10840     21          1,000,000+   1579            NaN   \n",
       "Type             10839      2                Free  10039            NaN   \n",
       "Price            10840     92                   0  10040            NaN   \n",
       "ContentRating    10840      6            Everyone   8714            NaN   \n",
       "Genres           10840    119               Tools    842            NaN   \n",
       "LastUpdated      10840   1377      August 3, 2018    326            NaN   \n",
       "CurrentVer       10840   2832  Varies with device   1459            NaN   \n",
       "AndroidVer       10840     34          4.1 and up   2451            NaN   \n",
       "\n",
       "                          std  min   25%     50%      75%         max  \n",
       "App                       NaN  NaN   NaN     NaN      NaN         NaN  \n",
       "Category                  NaN  NaN   NaN     NaN      NaN         NaN  \n",
       "Rating               0.478907  1.0   4.1     4.2      4.5         5.0  \n",
       "Reviews        2927760.603886  0.0  38.0  2094.0  54775.5  78158306.0  \n",
       "Size                      NaN  NaN   NaN     NaN      NaN         NaN  \n",
       "Installs                  NaN  NaN   NaN     NaN      NaN         NaN  \n",
       "Type                      NaN  NaN   NaN     NaN      NaN         NaN  \n",
       "Price                     NaN  NaN   NaN     NaN      NaN         NaN  \n",
       "ContentRating             NaN  NaN   NaN     NaN      NaN         NaN  \n",
       "Genres                    NaN  NaN   NaN     NaN      NaN         NaN  \n",
       "LastUpdated               NaN  NaN   NaN     NaN      NaN         NaN  \n",
       "CurrentVer                NaN  NaN   NaN     NaN      NaN         NaN  \n",
       "AndroidVer                NaN  NaN   NaN     NaN      NaN         NaN  "
      ]
     },
     "execution_count": 61,
     "metadata": {},
     "output_type": "execute_result"
    }
   ],
   "source": [
    "data.describe(include='all').T"
   ]
  },
  {
   "cell_type": "code",
   "execution_count": 62,
   "id": "53ccc3a0",
   "metadata": {},
   "outputs": [
    {
     "data": {
      "text/plain": [
       "App              0\n",
       "Category         0\n",
       "Rating           0\n",
       "Reviews          0\n",
       "Size             0\n",
       "Installs         0\n",
       "Type             1\n",
       "Price            0\n",
       "ContentRating    0\n",
       "Genres           0\n",
       "LastUpdated      0\n",
       "CurrentVer       0\n",
       "AndroidVer       0\n",
       "dtype: int64"
      ]
     },
     "execution_count": 62,
     "metadata": {},
     "output_type": "execute_result"
    }
   ],
   "source": [
    "data.head(5)\n",
    "data.isna().sum()"
   ]
  },
  {
   "cell_type": "code",
   "execution_count": 17,
   "id": "42efd758",
   "metadata": {},
   "outputs": [
    {
     "data": {
      "text/html": [
       "<div>\n",
       "<style scoped>\n",
       "    .dataframe tbody tr th:only-of-type {\n",
       "        vertical-align: middle;\n",
       "    }\n",
       "\n",
       "    .dataframe tbody tr th {\n",
       "        vertical-align: top;\n",
       "    }\n",
       "\n",
       "    .dataframe thead th {\n",
       "        text-align: right;\n",
       "    }\n",
       "</style>\n",
       "<table border=\"1\" class=\"dataframe\">\n",
       "  <thead>\n",
       "    <tr style=\"text-align: right;\">\n",
       "      <th></th>\n",
       "      <th>Rating</th>\n",
       "      <th>Reviews</th>\n",
       "    </tr>\n",
       "  </thead>\n",
       "  <tbody>\n",
       "    <tr>\n",
       "      <th>count</th>\n",
       "      <td>10840.000000</td>\n",
       "      <td>1.084000e+04</td>\n",
       "    </tr>\n",
       "    <tr>\n",
       "      <th>mean</th>\n",
       "      <td>4.191972</td>\n",
       "      <td>4.441529e+05</td>\n",
       "    </tr>\n",
       "    <tr>\n",
       "      <th>std</th>\n",
       "      <td>0.478907</td>\n",
       "      <td>2.927761e+06</td>\n",
       "    </tr>\n",
       "    <tr>\n",
       "      <th>min</th>\n",
       "      <td>1.000000</td>\n",
       "      <td>0.000000e+00</td>\n",
       "    </tr>\n",
       "    <tr>\n",
       "      <th>25%</th>\n",
       "      <td>4.100000</td>\n",
       "      <td>3.800000e+01</td>\n",
       "    </tr>\n",
       "    <tr>\n",
       "      <th>50%</th>\n",
       "      <td>4.200000</td>\n",
       "      <td>2.094000e+03</td>\n",
       "    </tr>\n",
       "    <tr>\n",
       "      <th>75%</th>\n",
       "      <td>4.500000</td>\n",
       "      <td>5.477550e+04</td>\n",
       "    </tr>\n",
       "    <tr>\n",
       "      <th>max</th>\n",
       "      <td>5.000000</td>\n",
       "      <td>7.815831e+07</td>\n",
       "    </tr>\n",
       "  </tbody>\n",
       "</table>\n",
       "</div>"
      ],
      "text/plain": [
       "             Rating       Reviews\n",
       "count  10840.000000  1.084000e+04\n",
       "mean       4.191972  4.441529e+05\n",
       "std        0.478907  2.927761e+06\n",
       "min        1.000000  0.000000e+00\n",
       "25%        4.100000  3.800000e+01\n",
       "50%        4.200000  2.094000e+03\n",
       "75%        4.500000  5.477550e+04\n",
       "max        5.000000  7.815831e+07"
      ]
     },
     "execution_count": 17,
     "metadata": {},
     "output_type": "execute_result"
    }
   ],
   "source": [
    "\n",
    "\n",
    "data.describe()"
   ]
  },
  {
   "cell_type": "code",
   "execution_count": 18,
   "id": "ad6a3030",
   "metadata": {},
   "outputs": [
    {
     "data": {
      "text/plain": [
       "array(['Photo Editor & Candy Camera & Grid & ScrapBook',\n",
       "       'Coloring book moana',\n",
       "       'U Launcher Lite – FREE Live Cool Themes, Hide Apps', ...,\n",
       "       'Parkinson Exercices FR', 'The SCP Foundation DB fr nn5n',\n",
       "       'iHoroscope - 2018 Daily Horoscope & Astrology'], dtype=object)"
      ]
     },
     "execution_count": 18,
     "metadata": {},
     "output_type": "execute_result"
    }
   ],
   "source": [
    "data.App.unique()"
   ]
  },
  {
   "cell_type": "code",
   "execution_count": 19,
   "id": "5965c196",
   "metadata": {},
   "outputs": [
    {
     "data": {
      "text/plain": [
       "array([4.1       , 3.9       , 4.7       , 4.5       , 4.3       ,\n",
       "       4.4       , 3.8       , 4.2       , 4.6       , 3.2       ,\n",
       "       4.        , 4.19333832, 4.8       , 4.9       , 3.6       ,\n",
       "       3.7       , 3.3       , 3.4       , 3.5       , 3.1       ,\n",
       "       5.        , 2.6       , 3.        , 1.9       , 2.5       ,\n",
       "       2.8       , 2.7       , 1.        , 2.9       , 2.3       ,\n",
       "       2.2       , 1.7       , 2.        , 1.8       , 2.4       ,\n",
       "       1.6       , 2.1       , 1.4       , 1.5       , 1.2       ])"
      ]
     },
     "execution_count": 19,
     "metadata": {},
     "output_type": "execute_result"
    }
   ],
   "source": [
    "data.Rating.unique()"
   ]
  },
  {
   "cell_type": "code",
   "execution_count": 20,
   "id": "cf5a437d",
   "metadata": {},
   "outputs": [
    {
     "data": {
      "text/plain": [
       "array(['10,000+', '500,000+', '5,000,000+', '50,000,000+', '100,000+',\n",
       "       '50,000+', '1,000,000+', '10,000,000+', '5,000+', '100,000,000+',\n",
       "       '1,000,000,000+', '1,000+', '500,000,000+', '50+', '100+', '500+',\n",
       "       '10+', '1+', '5+', '0+', '0'], dtype=object)"
      ]
     },
     "execution_count": 20,
     "metadata": {},
     "output_type": "execute_result"
    }
   ],
   "source": [
    "\n",
    "\n",
    "\n",
    "data.Installs.unique()"
   ]
  },
  {
   "cell_type": "code",
   "execution_count": 21,
   "id": "12e50436",
   "metadata": {},
   "outputs": [
    {
     "data": {
      "text/plain": [
       "array([   159,    967,  87510, ...,    603,   1195, 398307])"
      ]
     },
     "execution_count": 21,
     "metadata": {},
     "output_type": "execute_result"
    }
   ],
   "source": [
    "data.Reviews.unique()\n"
   ]
  },
  {
   "cell_type": "code",
   "execution_count": 22,
   "id": "381e7960",
   "metadata": {},
   "outputs": [
    {
     "data": {
      "text/plain": [
       "FAMILY                 1972\n",
       "GAME                   1144\n",
       "TOOLS                   843\n",
       "MEDICAL                 463\n",
       "BUSINESS                460\n",
       "PRODUCTIVITY            424\n",
       "PERSONALIZATION         392\n",
       "COMMUNICATION           387\n",
       "SPORTS                  384\n",
       "LIFESTYLE               382\n",
       "FINANCE                 366\n",
       "HEALTH_AND_FITNESS      341\n",
       "PHOTOGRAPHY             335\n",
       "SOCIAL                  295\n",
       "NEWS_AND_MAGAZINES      283\n",
       "SHOPPING                260\n",
       "TRAVEL_AND_LOCAL        258\n",
       "DATING                  234\n",
       "BOOKS_AND_REFERENCE     231\n",
       "VIDEO_PLAYERS           175\n",
       "EDUCATION               156\n",
       "ENTERTAINMENT           149\n",
       "MAPS_AND_NAVIGATION     137\n",
       "FOOD_AND_DRINK          127\n",
       "HOUSE_AND_HOME           88\n",
       "LIBRARIES_AND_DEMO       85\n",
       "AUTO_AND_VEHICLES        85\n",
       "WEATHER                  82\n",
       "ART_AND_DESIGN           65\n",
       "EVENTS                   64\n",
       "PARENTING                60\n",
       "COMICS                   60\n",
       "BEAUTY                   53\n",
       "Name: Category, dtype: int64"
      ]
     },
     "execution_count": 22,
     "metadata": {},
     "output_type": "execute_result"
    }
   ],
   "source": [
    "data.Category.value_counts()"
   ]
  },
  {
   "cell_type": "code",
   "execution_count": 23,
   "id": "82361547",
   "metadata": {},
   "outputs": [
    {
     "data": {
      "text/plain": [
       "array(['ART_AND_DESIGN', 'AUTO_AND_VEHICLES', 'BEAUTY',\n",
       "       'BOOKS_AND_REFERENCE', 'BUSINESS', 'COMICS', 'COMMUNICATION',\n",
       "       'DATING', 'EDUCATION', 'ENTERTAINMENT', 'EVENTS', 'FINANCE',\n",
       "       'FOOD_AND_DRINK', 'HEALTH_AND_FITNESS', 'HOUSE_AND_HOME',\n",
       "       'LIBRARIES_AND_DEMO', 'LIFESTYLE', 'GAME', 'FAMILY', 'MEDICAL',\n",
       "       'SOCIAL', 'SHOPPING', 'PHOTOGRAPHY', 'SPORTS', 'TRAVEL_AND_LOCAL',\n",
       "       'TOOLS', 'PERSONALIZATION', 'PRODUCTIVITY', 'PARENTING', 'WEATHER',\n",
       "       'VIDEO_PLAYERS', 'NEWS_AND_MAGAZINES', 'MAPS_AND_NAVIGATION'],\n",
       "      dtype=object)"
      ]
     },
     "execution_count": 23,
     "metadata": {},
     "output_type": "execute_result"
    }
   ],
   "source": [
    "data.Category.unique()"
   ]
  },
  {
   "cell_type": "code",
   "execution_count": 24,
   "id": "78accc79",
   "metadata": {},
   "outputs": [
    {
     "data": {
      "text/plain": [
       "App              0\n",
       "Category         0\n",
       "Rating           0\n",
       "Reviews          0\n",
       "Size             0\n",
       "Installs         0\n",
       "Type             1\n",
       "Price            0\n",
       "ContentRating    0\n",
       "Genres           0\n",
       "LastUpdated      0\n",
       "CurrentVer       0\n",
       "AndroidVer       0\n",
       "dtype: int64"
      ]
     },
     "execution_count": 24,
     "metadata": {},
     "output_type": "execute_result"
    }
   ],
   "source": [
    "#data.shape\n",
    "data.isna().sum()"
   ]
  },
  {
   "cell_type": "code",
   "execution_count": null,
   "id": "f08f8ba8",
   "metadata": {},
   "outputs": [],
   "source": []
  },
  {
   "cell_type": "code",
   "execution_count": 64,
   "id": "b378f629",
   "metadata": {},
   "outputs": [
    {
     "name": "stderr",
     "output_type": "stream",
     "text": [
      "<ipython-input-64-4eda66463461>:6: FutureWarning:\n",
      "\n",
      "The default value of regex will change from True to False in a future version. In addition, single character regular expressions will*not* be treated as literal strings when regex=True.\n",
      "\n",
      "<ipython-input-64-4eda66463461>:10: FutureWarning:\n",
      "\n",
      "The default value of regex will change from True to False in a future version. In addition, single character regular expressions will*not* be treated as literal strings when regex=True.\n",
      "\n"
     ]
    }
   ],
   "source": [
    "#delete any digit like \"plus\" or \"comma\"\n",
    "signals=['+',',']\n",
    "\n",
    "for i in signals :\n",
    "     for j in ['Installs']:\n",
    "        data[j]=data[j].str.replace(i,'')\n",
    "data.head()\n",
    "# delete last digit in price column -$-\n",
    "for k in ['Price']:\n",
    "        data[k]=data[k].str.replace('$','')\n"
   ]
  },
  {
   "cell_type": "code",
   "execution_count": 65,
   "id": "8f18614b",
   "metadata": {},
   "outputs": [],
   "source": [
    "data[\"Installs\"] = data[\"Installs\"].astype(int)"
   ]
  },
  {
   "cell_type": "code",
   "execution_count": 66,
   "id": "871be7a8",
   "metadata": {},
   "outputs": [],
   "source": [
    "data = data.Price.astype(float)\n"
   ]
  },
  {
   "cell_type": "code",
   "execution_count": 28,
   "id": "b8ee040f",
   "metadata": {},
   "outputs": [
    {
     "data": {
      "text/plain": [
       "4.193338    1474\n",
       "4.400000    1109\n",
       "4.300000    1076\n",
       "4.500000    1038\n",
       "4.200000     952\n",
       "4.600000     823\n",
       "4.100000     708\n",
       "4.000000     568\n",
       "4.700000     499\n",
       "3.900000     386\n",
       "3.800000     303\n",
       "5.000000     274\n",
       "3.700000     239\n",
       "4.800000     234\n",
       "3.600000     174\n",
       "3.500000     163\n",
       "3.400000     128\n",
       "3.300000     102\n",
       "4.900000      87\n",
       "3.000000      83\n",
       "3.100000      69\n",
       "3.200000      64\n",
       "2.900000      45\n",
       "2.800000      42\n",
       "2.600000      25\n",
       "2.700000      25\n",
       "2.500000      21\n",
       "2.300000      20\n",
       "2.400000      19\n",
       "1.000000      16\n",
       "2.200000      14\n",
       "1.900000      13\n",
       "2.000000      12\n",
       "2.100000       8\n",
       "1.800000       8\n",
       "1.700000       8\n",
       "1.600000       4\n",
       "1.500000       3\n",
       "1.400000       3\n",
       "1.200000       1\n",
       "Name: Rating, dtype: int64"
      ]
     },
     "execution_count": 28,
     "metadata": {},
     "output_type": "execute_result"
    }
   ],
   "source": [
    "data.Rating.value_counts()"
   ]
  },
  {
   "cell_type": "code",
   "execution_count": 29,
   "id": "76af7cbf",
   "metadata": {},
   "outputs": [
    {
     "data": {
      "text/plain": [
       "0       2018-01-07\n",
       "1       2018-01-15\n",
       "2       2018-08-01\n",
       "3       2018-06-08\n",
       "4       2018-06-20\n",
       "           ...    \n",
       "10836   2017-07-25\n",
       "10837   2018-07-06\n",
       "10838   2017-01-20\n",
       "10839   2015-01-19\n",
       "10840   2018-07-25\n",
       "Name: LastUpdated, Length: 10840, dtype: datetime64[ns]"
      ]
     },
     "execution_count": 29,
     "metadata": {},
     "output_type": "execute_result"
    }
   ],
   "source": [
    "# convert column - last Updated to datetime type\n",
    "data['LastUpdated'] = pd.to_datetime(data['LastUpdated'])\n",
    "data['LastUpdated']\n"
   ]
  },
  {
   "cell_type": "code",
   "execution_count": 30,
   "id": "6a88f734",
   "metadata": {},
   "outputs": [],
   "source": [
    "# divided Last Updated columnn to three diffrent day , month , year\n",
    "data['LastUpdated_Day']=data['LastUpdated'].dt.day\n",
    "data['LastUpdated_Month']=data['LastUpdated'].dt.month\n",
    "data['lastUpdated_Year']=data['LastUpdated'].dt.year"
   ]
  },
  {
   "cell_type": "code",
   "execution_count": 31,
   "id": "a8393cd8",
   "metadata": {},
   "outputs": [],
   "source": [
    "# drop column after edit\n",
    "data.drop('LastUpdated', axis=1, inplace=True)"
   ]
  },
  {
   "cell_type": "code",
   "execution_count": 32,
   "id": "2cd653d5",
   "metadata": {},
   "outputs": [
    {
     "name": "stdout",
     "output_type": "stream",
     "text": [
      "483\n"
     ]
    }
   ],
   "source": [
    "duplicate = data.duplicated()\n",
    "print(duplicate.sum())"
   ]
  },
  {
   "cell_type": "code",
   "execution_count": 33,
   "id": "226c606b",
   "metadata": {},
   "outputs": [
    {
     "name": "stdout",
     "output_type": "stream",
     "text": [
      "0\n"
     ]
    }
   ],
   "source": [
    "# drop duplicate rows by name app but second duplicate row \n",
    "\n",
    "data = data.drop_duplicates(keep='last',subset=['App'])\n",
    "data[data.duplicated(['App'])]\n",
    "data.shape\n",
    "data[data.duplicated(['App'])]\n",
    "duplicate = data.duplicated()\n",
    "print(duplicate.sum())"
   ]
  },
  {
   "cell_type": "code",
   "execution_count": 34,
   "id": "6da54f94",
   "metadata": {},
   "outputs": [
    {
     "data": {
      "text/html": [
       "<div>\n",
       "<style scoped>\n",
       "    .dataframe tbody tr th:only-of-type {\n",
       "        vertical-align: middle;\n",
       "    }\n",
       "\n",
       "    .dataframe tbody tr th {\n",
       "        vertical-align: top;\n",
       "    }\n",
       "\n",
       "    .dataframe thead th {\n",
       "        text-align: right;\n",
       "    }\n",
       "</style>\n",
       "<table border=\"1\" class=\"dataframe\">\n",
       "  <thead>\n",
       "    <tr style=\"text-align: right;\">\n",
       "      <th></th>\n",
       "      <th>App</th>\n",
       "      <th>Category</th>\n",
       "      <th>Rating</th>\n",
       "      <th>Reviews</th>\n",
       "      <th>Size</th>\n",
       "      <th>Installs</th>\n",
       "      <th>Type</th>\n",
       "      <th>Price</th>\n",
       "      <th>ContentRating</th>\n",
       "      <th>Genres</th>\n",
       "      <th>CurrentVer</th>\n",
       "      <th>AndroidVer</th>\n",
       "      <th>LastUpdated_Day</th>\n",
       "      <th>LastUpdated_Month</th>\n",
       "      <th>lastUpdated_Year</th>\n",
       "    </tr>\n",
       "  </thead>\n",
       "  <tbody>\n",
       "  </tbody>\n",
       "</table>\n",
       "</div>"
      ],
      "text/plain": [
       "Empty DataFrame\n",
       "Columns: [App, Category, Rating, Reviews, Size, Installs, Type, Price, ContentRating, Genres, CurrentVer, AndroidVer, LastUpdated_Day, LastUpdated_Month, lastUpdated_Year]\n",
       "Index: []"
      ]
     },
     "execution_count": 34,
     "metadata": {},
     "output_type": "execute_result"
    }
   ],
   "source": [
    "# show duplicate app\n",
    "data[data.duplicated(['App'])]"
   ]
  },
  {
   "cell_type": "code",
   "execution_count": 35,
   "id": "5122c53f",
   "metadata": {},
   "outputs": [
    {
     "data": {
      "image/png": "[encoded data removed]",
      "text/plain": [
       "<Figure size 720x936 with 1 Axes>"
      ]
     },
     "metadata": {
      "needs_background": "light"
     },
     "output_type": "display_data"
    }
   ],
   "source": [
    "#show rating with catew\n",
    "plt.figure(figsize=(10,13))\n",
    "sns.boxplot(y='Rating',x='Category',data = data.sort_values('Rating',ascending=True))\n",
    "plt.xticks(rotation=80);\n"
   ]
  },
  {
   "cell_type": "code",
   "execution_count": 36,
   "id": "dafe8749",
   "metadata": {},
   "outputs": [
    {
     "data": {
      "text/plain": [
       "Free    8904\n",
       "Paid     754\n",
       "Name: Type, dtype: int64"
      ]
     },
     "execution_count": 36,
     "metadata": {},
     "output_type": "execute_result"
    }
   ],
   "source": [
    "data['Type'].value_counts()"
   ]
  },
  {
   "cell_type": "code",
   "execution_count": 37,
   "id": "54b498ae",
   "metadata": {},
   "outputs": [
    {
     "data": {
      "image/png": "[encoded data removed]",
      "text/plain": [
       "<Figure size 576x360 with 1 Axes>"
      ]
     },
     "metadata": {
      "needs_background": "light"
     },
     "output_type": "display_data"
    }
   ],
   "source": [
    "plt.rcParams['figure.figsize'] = (8,5)\n",
    "sns.countplot(x='Type',data=data);\n",
    "\n"
   ]
  },
  {
   "cell_type": "code",
   "execution_count": 38,
   "id": "8fba73f6",
   "metadata": {},
   "outputs": [
    {
     "data": {
      "image/png": "[encoded data removed]",
      "text/plain": [
       "<Figure size 576x360 with 1 Axes>"
      ]
     },
     "metadata": {},
     "output_type": "display_data"
    }
   ],
   "source": [
    "data[\"Type\"].value_counts().plot.pie(autopct = \"%1.1f%%\");"
   ]
  },
  {
   "cell_type": "code",
   "execution_count": 39,
   "id": "7f253f71",
   "metadata": {},
   "outputs": [],
   "source": [
    "## data['Category'].value_counts().head(10).plot.pie(autopct = \"%1.1f%%\");"
   ]
  },
  {
   "cell_type": "code",
   "execution_count": 40,
   "id": "c3581408",
   "metadata": {},
   "outputs": [
    {
     "data": {
      "text/plain": [
       "''"
      ]
     },
     "execution_count": 40,
     "metadata": {},
     "output_type": "execute_result"
    },
    {
     "data": {
      "image/png": "[encoded data removed]",
      "text/plain": [
       "<Figure size 576x360 with 1 Axes>"
      ]
     },
     "metadata": {},
     "output_type": "display_data"
    }
   ],
   "source": [
    "data['Genres'].value_counts().head(10).plot.pie(autopct = \"%1.02f%%\")\n",
    ";"
   ]
  },
  {
   "cell_type": "code",
   "execution_count": 41,
   "id": "38e17b9a",
   "metadata": {},
   "outputs": [],
   "source": [
    "plt.rcParams['figure.figsize'] = (20, 10)\n"
   ]
  },
  {
   "cell_type": "code",
   "execution_count": 42,
   "id": "8c961933",
   "metadata": {
    "scrolled": true
   },
   "outputs": [
    {
     "data": {
      "image/png": "[encoded data removed]",
      "text/plain": [
       "<Figure size 1440x720 with 1 Axes>"
      ]
     },
     "metadata": {
      "needs_background": "light"
     },
     "output_type": "display_data"
    }
   ],
   "source": [
    "#data1=data.Genres.value_counts().head(10)\n",
    "sns.countplot(x='Genres',data=data.sort_values('Installs',ascending=False).head(10));\n",
    "plt.title('the most Geners install it  ')\n",
    "plt.xticks(rotation=90);"
   ]
  },
  {
   "cell_type": "code",
   "execution_count": 43,
   "id": "976f5173",
   "metadata": {},
   "outputs": [
    {
     "data": {
      "image/png": "[encoded data removed]",
      "text/plain": [
       "<Figure size 1440x720 with 1 Axes>"
      ]
     },
     "metadata": {
      "needs_background": "light"
     },
     "output_type": "display_data"
    }
   ],
   "source": [
    "\n",
    "CountUpdate=data['lastUpdated_Year'].value_counts()\n",
    "CountUpdate.plot();\n",
    "plt.rcParams['figure.figsize'] = (20, 10)\n",
    "plt.xlabel(\"Years\");\n",
    "plt.ylabel(\"Number of updates\");\n",
    "plt.title(\"Time series plot of Last Updates\");"
   ]
  },
  {
   "cell_type": "code",
   "execution_count": 44,
   "id": "45affe19",
   "metadata": {},
   "outputs": [
    {
     "data": {
      "image/png": "[encoded data removed]",
      "text/plain": [
       "<Figure size 1440x720 with 2 Axes>"
      ]
     },
     "metadata": {
      "needs_background": "light"
     },
     "output_type": "display_data"
    }
   ],
   "source": [
    "\n",
    "corrmat = data.corr()\n",
    "#sns.color_palette(\"flare\", as_cmap=True)\n",
    "p =sns.heatmap(corrmat, annot=True, cmap=sns.diverging_palette(200, 20, as_cmap=True))"
   ]
  },
  {
   "cell_type": "code",
   "execution_count": 45,
   "id": "8ff7a453",
   "metadata": {},
   "outputs": [
    {
     "data": {
      "text/plain": [
       "<AxesSubplot:ylabel='Category'>"
      ]
     },
     "execution_count": 45,
     "metadata": {},
     "output_type": "execute_result"
    },
    {
     "data": {
      "image/png": "[encoded data removed]",
      "text/plain": [
       "<Figure size 1440x720 with 1 Axes>"
      ]
     },
     "metadata": {},
     "output_type": "display_data"
    }
   ],
   "source": [
    "data['Category'].value_counts().head(10).plot.pie(autopct = \"%1.1f%%\");1\n"
   ]
  },
  {
   "cell_type": "code",
   "execution_count": null,
   "id": "e1da114d",
   "metadata": {},
   "outputs": [],
   "source": [
    "#top_Category = data.groupby(by = 'Category')['Type'].head(10).reset_index()\n",
    "#top_Category\n",
    "\n",
    "#top_Category = data.groupby(by = 'Category').agg({'Installs':'sum', 'Type':\" \".join(data.Type)}).sort_values('Installs', ascending = False).head(10).reset_index()\n",
    "#data=data.\n",
    "#top_Category #agg({'Installs': ['sum'])\n",
    "#fig = px.bar(top_Category.sort_values('Installs',ascending = False), x='Category' , y='Installs',color=top_Category.Type ,title=\"Free VS Paid\")\n",
    "#fig.show()\n"
   ]
  },
  {
   "cell_type": "code",
   "execution_count": 47,
   "id": "ab8f8fc9",
   "metadata": {},
   "outputs": [
    {
     "data": {
      "text/plain": [
       "(array([0, 1, 2, 3, 4, 5]),\n",
       " [Text(0, 0, 'Everyone'),\n",
       "  Text(1, 0, 'Teen'),\n",
       "  Text(2, 0, 'Everyone 10+'),\n",
       "  Text(3, 0, 'Mature 17+'),\n",
       "  Text(4, 0, 'Adults only 18+'),\n",
       "  Text(5, 0, 'Unrated')])"
      ]
     },
     "execution_count": 47,
     "metadata": {},
     "output_type": "execute_result"
    },
    {
     "data": {
      "image/png": "[encoded data removed]",
      "text/plain": [
       "<Figure size 1440x720 with 1 Axes>"
      ]
     },
     "metadata": {
      "needs_background": "light"
     },
     "output_type": "display_data"
    }
   ],
   "source": [
    "plt.rcParams['figure.figsize'] = (20, 10)\n",
    "sns.countplot(x='ContentRating',data=data);\n",
    "#sns.color_palette(\"flare\", as_cmap=True)                                            \n",
    "plt.xticks(rotation=70)"
   ]
  },
  {
   "cell_type": "code",
   "execution_count": null,
   "id": "65ebde68",
   "metadata": {},
   "outputs": [],
   "source": []
  }
 ],
 "metadata": {
  "kernelspec": {
   "display_name": "Python 3",
   "language": "python",
   "name": "python3"
  },
  "language_info": {
   "codemirror_mode": {
    "name": "ipython",
    "version": 3
   },
   "file_extension": ".py",
   "mimetype": "text/x-python",
   "name": "python",
   "nbconvert_exporter": "python",
   "pygments_lexer": "ipython3",
   "version": "3.8.8"
  }
 },
 "nbformat": 4,
 "nbformat_minor": 5
}
